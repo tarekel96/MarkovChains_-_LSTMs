{
  "nbformat": 4,
  "nbformat_minor": 0,
  "metadata": {
    "colab": {
      "name": "Generative_LSTM.ipynb",
      "provenance": [],
      "collapsed_sections": []
    },
    "kernelspec": {
      "name": "python3",
      "display_name": "Python 3"
    },
    "language_info": {
      "name": "python"
    },
    "accelerator": "GPU"
  },
  "cells": [
    {
      "cell_type": "code",
      "source": [
        "# Tarek El-Hajjaoui\n",
        "import numpy\n",
        "from keras.models import Sequential\n",
        "from keras.layers import Dense\n",
        "from keras.layers import Dropout\n",
        "from keras.layers import LSTM\n",
        "from keras.callbacks import ModelCheckpoint\n",
        "from keras.utils import np_utils"
      ],
      "metadata": {
        "id": "6xmCldTofKro"
      },
      "execution_count": 38,
      "outputs": []
    },
    {
      "cell_type": "code",
      "source": [
        "import string\n",
        "\n",
        "def remove_punc(word, punc_set = string.punctuation):\n",
        "  return ''.join(ch for ch in word if ch not in punc_set)"
      ],
      "metadata": {
        "id": "EMRTMJvD0oyQ"
      },
      "execution_count": 44,
      "outputs": []
    },
    {
      "cell_type": "code",
      "source": [
        "# get the text from the file\n",
        "def gen_corpus_from_file(in_file=\"/content/nursery_rhymes.txt\", \n",
        "                         out_file=\"/content/parsed_txt.txt\"):\n",
        "  headers_lst = []\n",
        "  rhymes_lst = []\n",
        "  skip_ln = lambda ln : True if (ln == \"\") else False\n",
        "  is_header = lambda ln : True if (ln[-1].isupper()) else False\n",
        "  with open(in_file) as file:\n",
        "    for line in file:\n",
        "      strip_line = line.replace('\\r', ' ').replace('\\n', ' ').strip()\n",
        "      if skip_ln(strip_line): continue\n",
        "      if is_header(strip_line):\n",
        "        headers_lst.append(strip_line)\n",
        "      else:\n",
        "        rhyme = remove_punc(strip_line.lower())\n",
        "        rhymes_lst.append(rhyme)\n",
        "  rhymes = ' '.join(rhymes_lst)\n",
        "  del headers_lst\n",
        "  del rhymes_lst\n",
        "  with open(out_file, \"w\") as out_f:\n",
        "    out_f.write(rhymes)\n",
        "  return rhymes"
      ],
      "metadata": {
        "id": "5tEW5pZ9vg14"
      },
      "execution_count": 59,
      "outputs": []
    },
    {
      "cell_type": "code",
      "source": [
        "corpus = gen_corpus_from_file()"
      ],
      "metadata": {
        "id": "d3eZrrAGwFiq"
      },
      "execution_count": 60,
      "outputs": []
    },
    {
      "cell_type": "code",
      "source": [
        ""
      ],
      "metadata": {
        "id": "zMCqAytv3PJZ"
      },
      "execution_count": null,
      "outputs": []
    }
  ]
}