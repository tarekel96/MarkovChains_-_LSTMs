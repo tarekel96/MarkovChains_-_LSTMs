{
  "nbformat": 4,
  "nbformat_minor": 0,
  "metadata": {
    "colab": {
      "name": "Generative_LSTM.ipynb",
      "provenance": [],
      "collapsed_sections": []
    },
    "kernelspec": {
      "name": "python3",
      "display_name": "Python 3"
    },
    "language_info": {
      "name": "python"
    },
    "accelerator": "GPU"
  },
  "cells": [
    {
      "cell_type": "code",
      "execution_count": 253,
      "metadata": {
        "id": "ytGJt1zqetPE"
      },
      "outputs": [],
      "source": [
        "# Tarek El-Hajjaoui\n",
        "import tensorflow as tf\n",
        "import numpy as np\n",
        "import pandas as pd\n",
        "import string # needed to remove punctation from words\n",
        "from tensorflow.keras.preprocessing.text import Tokenizer\n",
        "from tensorflow.keras.preprocessing.sequence import pad_sequences\n",
        "from tensorflow.keras.models import Sequential\n",
        "from tensorflow.keras.layers import Dense, Flatten, LSTM, Dropout, Activation, Embedding, Bidirectional\n",
        "from sklearn.model_selection import train_test_split"
      ]
    },
    {
      "cell_type": "code",
      "source": [
        "def remove_punc(word, punc_set = string.punctuation):\n",
        "  return ''.join(ch for ch in word if ch not in punc_set)"
      ],
      "metadata": {
        "id": "yOKOrk6Fq2Eq"
      },
      "execution_count": 197,
      "outputs": []
    },
    {
      "cell_type": "code",
      "source": [
        "# lambda helper func\n",
        "is_new_cat = lambda line : True if (len(line) != 0 and line[-1].isupper()) else False\n",
        "\n",
        "def parse_txt_file_str(filename=\"/content/nursery_rhymes.txt\"):\n",
        "  parse_dict = {}\n",
        "  curr_cat = \"\"\n",
        "  with open(filename) as file:\n",
        "    print(parse_dict)\n",
        "    for line in file:\n",
        "      strip_line = line.replace('\\r', ' ').replace('\\n', ' ').strip()\n",
        "      if len(strip_line) == 0:\n",
        "        continue\n",
        "      new_category = is_new_cat(strip_line)\n",
        "      if new_category:\n",
        "        lower_cat = strip_line.lower().replace('_', ' ')\n",
        "        if lower_cat not in parse_dict:\n",
        "          parse_dict[lower_cat] = []\n",
        "          curr_cat = lower_cat\n",
        "      else:\n",
        "        new_words = strip_line.split(' ')\n",
        "        new_words = [word.lower() for word in new_words if word not in ['', ' ']]\n",
        "        new_words = [remove_punc(word) for word in new_words]\n",
        "        # assign new words to words list\n",
        "        parse_dict[curr_cat] += new_words\n",
        "  # returns dict with the key being the category of rhymes, values being\n",
        "  # strings of rhymes concatenated to each other\n",
        "  return parse_dict"
      ],
      "metadata": {
        "id": "N784i_ikEGlv"
      },
      "execution_count": 198,
      "outputs": []
    },
    {
      "cell_type": "code",
      "source": [
        "parse_dict = parse_txt_file_str()"
      ],
      "metadata": {
        "colab": {
          "base_uri": "https://localhost:8080/"
        },
        "id": "IhrNSMp_LDl2",
        "outputId": "a0e6ed56-850e-4e00-f405-81f7281cc3c9"
      },
      "execution_count": 325,
      "outputs": [
        {
          "output_type": "stream",
          "name": "stdout",
          "text": [
            "{}\n"
          ]
        }
      ]
    },
    {
      "cell_type": "code",
      "source": [
        "def output_parse_data(file=\"parsed_data.txt\", parse_dict=parse_dict):\n",
        "  with open(file, \"w\") as out_file:\n",
        "    out_file.write(str(parse_dict))"
      ],
      "metadata": {
        "id": "zEDOto22DeMq"
      },
      "execution_count": 326,
      "outputs": []
    },
    {
      "cell_type": "code",
      "source": [
        "output_parse_data()"
      ],
      "metadata": {
        "id": "u8yrPZx8LR2I"
      },
      "execution_count": 327,
      "outputs": []
    },
    {
      "cell_type": "code",
      "source": [
        "df_dict = {'rhyme_category': [], 'words': []}\n",
        "words_lst = []\n",
        "# key is rhyme category, value is list of words for that rhyme category\n",
        "for key, value in parse_dict.items():\n",
        "  df_dict['rhyme_category'].append(remove_punc(key))\n",
        "  df_dict['words'].append((' '.join(value)))\n",
        "  words_lst.append(value)"
      ],
      "metadata": {
        "id": "onVWevykEhVv"
      },
      "execution_count": 332,
      "outputs": []
    },
    {
      "cell_type": "code",
      "source": [
        "df_dict['rhyme_category'] = np.array(df_dict['rhyme_category'])\n",
        "df_dict['words'] = np.array(df_dict['words'])"
      ],
      "metadata": {
        "id": "xuefsZeDLvDf"
      },
      "execution_count": 333,
      "outputs": []
    },
    {
      "cell_type": "code",
      "source": [
        "data_frame = pd.DataFrame(df_dict)"
      ],
      "metadata": {
        "id": "cPawrOThDwAb"
      },
      "execution_count": 334,
      "outputs": []
    },
    {
      "cell_type": "code",
      "source": [
        "data_frame.head()"
      ],
      "metadata": {
        "colab": {
          "base_uri": "https://localhost:8080/",
          "height": 206
        },
        "id": "HPt9EvCTHW4l",
        "outputId": "0400f47c-a09e-452b-fac6-c62285e05c28"
      },
      "execution_count": 335,
      "outputs": [
        {
          "output_type": "execute_result",
          "data": {
            "text/html": [
              "<div>\n",
              "<style scoped>\n",
              "    .dataframe tbody tr th:only-of-type {\n",
              "        vertical-align: middle;\n",
              "    }\n",
              "\n",
              "    .dataframe tbody tr th {\n",
              "        vertical-align: top;\n",
              "    }\n",
              "\n",
              "    .dataframe thead th {\n",
              "        text-align: right;\n",
              "    }\n",
              "</style>\n",
              "<table border=\"1\" class=\"dataframe\">\n",
              "  <thead>\n",
              "    <tr style=\"text-align: right;\">\n",
              "      <th></th>\n",
              "      <th>rhyme_category</th>\n",
              "      <th>words</th>\n",
              "    </tr>\n",
              "  </thead>\n",
              "  <tbody>\n",
              "    <tr>\n",
              "      <th>0</th>\n",
              "      <td>the queen  of  hearts</td>\n",
              "      <td>the queen of hearts she made some tarts all on...</td>\n",
              "    </tr>\n",
              "    <tr>\n",
              "      <th>1</th>\n",
              "      <td>saint swithins day</td>\n",
              "      <td>st swithins day if thou dost rain for forty da...</td>\n",
              "    </tr>\n",
              "    <tr>\n",
              "      <th>2</th>\n",
              "      <td>dance to your daddie</td>\n",
              "      <td>dance to your daddie my bonnie laddie dance to...</td>\n",
              "    </tr>\n",
              "    <tr>\n",
              "      <th>3</th>\n",
              "      <td>the man in the moon</td>\n",
              "      <td>the man in the moon came tumbling down and ask...</td>\n",
              "    </tr>\n",
              "    <tr>\n",
              "      <th>4</th>\n",
              "      <td>simple simon</td>\n",
              "      <td>simple simon met a pieman going to the fair sa...</td>\n",
              "    </tr>\n",
              "  </tbody>\n",
              "</table>\n",
              "</div>"
            ],
            "text/plain": [
              "          rhyme_category                                              words\n",
              "0  the queen  of  hearts  the queen of hearts she made some tarts all on...\n",
              "1     saint swithins day  st swithins day if thou dost rain for forty da...\n",
              "2   dance to your daddie  dance to your daddie my bonnie laddie dance to...\n",
              "3    the man in the moon  the man in the moon came tumbling down and ask...\n",
              "4           simple simon  simple simon met a pieman going to the fair sa..."
            ]
          },
          "metadata": {},
          "execution_count": 335
        }
      ]
    },
    {
      "cell_type": "code",
      "source": [
        "data_frame.tail()"
      ],
      "metadata": {
        "colab": {
          "base_uri": "https://localhost:8080/",
          "height": 206
        },
        "id": "SsU9CamGMaCL",
        "outputId": "0319d8ac-3205-4db5-e21f-cfa58e4ba6d1"
      },
      "execution_count": 336,
      "outputs": [
        {
          "output_type": "execute_result",
          "data": {
            "text/html": [
              "<div>\n",
              "<style scoped>\n",
              "    .dataframe tbody tr th:only-of-type {\n",
              "        vertical-align: middle;\n",
              "    }\n",
              "\n",
              "    .dataframe tbody tr th {\n",
              "        vertical-align: top;\n",
              "    }\n",
              "\n",
              "    .dataframe thead th {\n",
              "        text-align: right;\n",
              "    }\n",
              "</style>\n",
              "<table border=\"1\" class=\"dataframe\">\n",
              "  <thead>\n",
              "    <tr style=\"text-align: right;\">\n",
              "      <th></th>\n",
              "      <th>rhyme_category</th>\n",
              "      <th>words</th>\n",
              "    </tr>\n",
              "  </thead>\n",
              "  <tbody>\n",
              "    <tr>\n",
              "      <th>271</th>\n",
              "      <td>old chairs to mend</td>\n",
              "      <td>if id as much money as i could spend i never w...</td>\n",
              "    </tr>\n",
              "    <tr>\n",
              "      <th>272</th>\n",
              "      <td>old mother hubbard</td>\n",
              "      <td>mother hubbards old dog tray if this account b...</td>\n",
              "    </tr>\n",
              "    <tr>\n",
              "      <th>273</th>\n",
              "      <td>to babylon</td>\n",
              "      <td>how many miles is it to babylon threescore mil...</td>\n",
              "    </tr>\n",
              "    <tr>\n",
              "      <th>274</th>\n",
              "      <td>my black hen</td>\n",
              "      <td>hickety pickety my black hen she lays eggs for...</td>\n",
              "    </tr>\n",
              "    <tr>\n",
              "      <th>275</th>\n",
              "      <td>ill tell you a story</td>\n",
              "      <td>ill tell you a story about jack a nory and now...</td>\n",
              "    </tr>\n",
              "  </tbody>\n",
              "</table>\n",
              "</div>"
            ],
            "text/plain": [
              "           rhyme_category                                              words\n",
              "271    old chairs to mend  if id as much money as i could spend i never w...\n",
              "272    old mother hubbard  mother hubbards old dog tray if this account b...\n",
              "273            to babylon  how many miles is it to babylon threescore mil...\n",
              "274          my black hen  hickety pickety my black hen she lays eggs for...\n",
              "275  ill tell you a story  ill tell you a story about jack a nory and now..."
            ]
          },
          "metadata": {},
          "execution_count": 336
        }
      ]
    },
    {
      "cell_type": "code",
      "source": [
        "data_frame.info()"
      ],
      "metadata": {
        "colab": {
          "base_uri": "https://localhost:8080/"
        },
        "id": "tMQtk955HuAP",
        "outputId": "617e733c-b585-4488-bd90-a765bd6f3309"
      },
      "execution_count": 337,
      "outputs": [
        {
          "output_type": "stream",
          "name": "stdout",
          "text": [
            "<class 'pandas.core.frame.DataFrame'>\n",
            "RangeIndex: 276 entries, 0 to 275\n",
            "Data columns (total 2 columns):\n",
            " #   Column          Non-Null Count  Dtype \n",
            "---  ------          --------------  ----- \n",
            " 0   rhyme_category  276 non-null    object\n",
            " 1   words           276 non-null    object\n",
            "dtypes: object(2)\n",
            "memory usage: 4.4+ KB\n"
          ]
        }
      ]
    },
    {
      "cell_type": "code",
      "source": [
        "def df_to_csv(file=\"rhyme_data.csv\", data_frame=data_frame):\n",
        "  data_frame.to_csv(file)"
      ],
      "metadata": {
        "id": "dY_KnJVmKwE6"
      },
      "execution_count": 338,
      "outputs": []
    },
    {
      "cell_type": "code",
      "source": [
        "df_to_csv()"
      ],
      "metadata": {
        "id": "TI5L8jSVNj9b"
      },
      "execution_count": 339,
      "outputs": []
    },
    {
      "cell_type": "markdown",
      "metadata": {
        "id": "84twg6twVGmr"
      },
      "source": [
        "Set hyperparameters"
      ]
    },
    {
      "cell_type": "code",
      "source": [
        "num_categories = data_frame.shape[0]"
      ],
      "metadata": {
        "id": "wgjTlXwMOTfY"
      },
      "execution_count": 340,
      "outputs": []
    },
    {
      "cell_type": "code",
      "metadata": {
        "id": "sVjsCpOETtEP"
      },
      "source": [
        "vocab_size = 5000 # make the top list of words (common words)\n",
        "embedding_dim = 276\n",
        "max_length = 200\n",
        "trunc_type = 'post'\n",
        "padding_type = 'post'\n",
        "oov_tok = '<OOV>' # OOV = Out of Vocabulary\n",
        "training_portion = .8"
      ],
      "execution_count": 296,
      "outputs": []
    },
    {
      "cell_type": "code",
      "source": [
        "type(df_dict['rhyme_category']), type(df_dict['words'])"
      ],
      "metadata": {
        "colab": {
          "base_uri": "https://localhost:8080/"
        },
        "id": "0aM74oyYTWyF",
        "outputId": "9efc5920-5f91-45c4-f9a9-e34e5e11016a"
      },
      "execution_count": 297,
      "outputs": [
        {
          "output_type": "execute_result",
          "data": {
            "text/plain": [
              "(numpy.ndarray, numpy.ndarray)"
            ]
          },
          "metadata": {},
          "execution_count": 297
        }
      ]
    },
    {
      "cell_type": "code",
      "source": [
        "X = df_dict['rhyme_category']\n",
        "y = df_dict['words']\n",
        "X.shape, y.shape"
      ],
      "metadata": {
        "colab": {
          "base_uri": "https://localhost:8080/"
        },
        "id": "U4wS3jNQTjty",
        "outputId": "1b0f7c72-6d48-41b9-a76a-efb9e8a85f4e"
      },
      "execution_count": 309,
      "outputs": [
        {
          "output_type": "execute_result",
          "data": {
            "text/plain": [
              "((276,), (276,))"
            ]
          },
          "metadata": {},
          "execution_count": 309
        }
      ]
    },
    {
      "cell_type": "code",
      "source": [
        "# create corpus\n",
        "total_words = []\n",
        "for row in data_frame['words']:\n",
        "  words = row.split(' ')\n",
        "  for word in words:\n",
        "    total_words.append(word)\n",
        "len(total_words)"
      ],
      "metadata": {
        "colab": {
          "base_uri": "https://localhost:8080/"
        },
        "id": "YQ_TeycoULLT",
        "outputId": "9b4c753d-615c-44ff-ad39-c01076b07a6c"
      },
      "execution_count": 344,
      "outputs": [
        {
          "output_type": "execute_result",
          "data": {
            "text/plain": [
              "16030"
            ]
          },
          "metadata": {},
          "execution_count": 344
        }
      ]
    },
    {
      "cell_type": "code",
      "source": [
        "X_train, X_test, y_train, y_test = train_test_split(X, y, test_size=training_portion, random_state=42)"
      ],
      "metadata": {
        "id": "hEqTOcEATRmS"
      },
      "execution_count": 322,
      "outputs": []
    },
    {
      "cell_type": "markdown",
      "source": [
        "DEPRECATED"
      ],
      "metadata": {
        "id": "YhpPdmGhGnMl"
      }
    },
    {
      "cell_type": "code",
      "source": [
        "# # lambda helper func\n",
        "# is_new_cat = lambda line : True if (len(line) != 0 and line[-1].isupper()) else False\n",
        "\n",
        "# def parse_txt_file_lst(filename=\"/content/nursery_rhymes.txt\"):\n",
        "#   parse_dict = {}\n",
        "#   curr_cat = \"\"\n",
        "#   with open(filename) as file:\n",
        "#     print(parse_dict)\n",
        "#     for line in file:\n",
        "#       strip_line = line.replace('\\r', ' ').replace('\\n', ' ').strip()\n",
        "#       if len(strip_line) == 0:\n",
        "#         continue\n",
        "#       new_category = is_new_cat(strip_line)\n",
        "#       if new_category:\n",
        "#         if strip_line not in parse_dict:\n",
        "#           parse_dict[strip_line] = []\n",
        "#           curr_cat = strip_line\n",
        "#       else:\n",
        "#         parse_dict[curr_cat].append(strip_line)\n",
        "#   # returns dict with the key being the category of rhymes, values being\n",
        "#   # list of rhymes\n",
        "#   return parse_dict"
      ],
      "metadata": {
        "id": "VNjbo9RAywEm"
      },
      "execution_count": 146,
      "outputs": []
    },
    {
      "cell_type": "code",
      "source": [
        ""
      ],
      "metadata": {
        "id": "6xmCldTofKro"
      },
      "execution_count": null,
      "outputs": []
    }
  ]
}