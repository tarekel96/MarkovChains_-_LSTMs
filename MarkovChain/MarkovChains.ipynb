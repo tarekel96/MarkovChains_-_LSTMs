{
  "nbformat": 4,
  "nbformat_minor": 0,
  "metadata": {
    "colab": {
      "name": "MarkovChains.ipynb",
      "provenance": [],
      "collapsed_sections": []
    },
    "kernelspec": {
      "name": "python3",
      "display_name": "Python 3"
    },
    "language_info": {
      "name": "python"
    }
  },
  "cells": [
    {
      "cell_type": "code",
      "execution_count": 12,
      "metadata": {
        "id": "tiozbU6FRwAv"
      },
      "outputs": [],
      "source": [
        "import pandas as pd\n",
        "import numpy as np\n",
        "import random # used to randomly choose a word from list of words\n",
        "import string # needed to remove punctation from words"
      ]
    },
    {
      "cell_type": "code",
      "source": [
        "def remove_punc(word, punc_set = string.punctuation):\n",
        "  return ''.join(ch for ch in word if ch not in punc_set)"
      ],
      "metadata": {
        "id": "EbceNpc1mQbW"
      },
      "execution_count": 9,
      "outputs": []
    },
    {
      "cell_type": "markdown",
      "source": [
        "Preprocess File"
      ],
      "metadata": {
        "id": "DxucwNQKAq_F"
      }
    },
    {
      "cell_type": "code",
      "source": [
        "# get the text from the file\n",
        "def gen_corpus_from_file(in_file=\"/content/nursery_rhymes.txt\", \n",
        "                         out_file=\"/content/parsed_txt.txt\"):\n",
        "  headers_lst = []\n",
        "  rhymes_lst = []\n",
        "  skip_ln = lambda ln : True if (ln == \"\") else False\n",
        "  is_header = lambda ln : True if (ln[-1].isupper()) else False\n",
        "  with open(in_file) as file:\n",
        "    for line in file:\n",
        "      strip_line = line.replace('\\r', ' ').replace('\\n', ' ').strip()\n",
        "      if skip_ln(strip_line): continue\n",
        "      if is_header(strip_line):\n",
        "        headers_lst.append(strip_line)\n",
        "      else:\n",
        "        rhyme = remove_punc(strip_line.lower())\n",
        "        rhymes_lst.append(rhyme)\n",
        "  rhymes = ' '.join(rhymes_lst)\n",
        "  del headers_lst\n",
        "  del rhymes_lst\n",
        "  with open(out_file, \"w\") as out_f:\n",
        "    out_f.write(rhymes)\n",
        "  return rhymes.split(' ')"
      ],
      "metadata": {
        "id": "Wc_Be3r3AFPG"
      },
      "execution_count": 45,
      "outputs": []
    },
    {
      "cell_type": "code",
      "source": [
        "words = gen_corpus_from_file()\n",
        "\n",
        "# Show count of many words there are\n",
        "print(f'Corpus size: {len(words)} words.')\n",
        "# print a few words to show parsing worked\n",
        "print(words[slice(10)])"
      ],
      "metadata": {
        "colab": {
          "base_uri": "https://localhost:8080/"
        },
        "id": "SItE_HX12Ff5",
        "outputId": "01e6f071-4fd2-4776-b26a-4943cb3dfe21"
      },
      "execution_count": 46,
      "outputs": [
        {
          "output_type": "stream",
          "name": "stdout",
          "text": [
            "Corpus size: 17600 words.\n",
            "['the', 'queen', 'of', 'hearts', 'she', 'made', 'some', 'tarts', 'all', 'on']\n"
          ]
        }
      ]
    },
    {
      "cell_type": "markdown",
      "source": [
        "Build the transition probabilities\n",
        "\n",
        "\n",
        "*   Represent transitions as a dictionary where the keys are the distinct words and the value is the list of words that appear after that respective key\n"
      ],
      "metadata": {
        "id": "SvYEKT8OAtgh"
      }
    },
    {
      "cell_type": "markdown",
      "source": [
        "1st order Markov Chain method"
      ],
      "metadata": {
        "id": "IGPbVL24I9cL"
      }
    },
    {
      "cell_type": "code",
      "source": [
        "def gen_1st_order_chain(words):\n",
        "  chain = {}  \n",
        "  n_words = len(words)  \n",
        "  for i, key in enumerate(words):  \n",
        "      if n_words > (i + 1):\n",
        "          word = words[i + 1]\n",
        "          if key not in chain:\n",
        "              chain[key] = [word]\n",
        "          else:\n",
        "              chain[key].append(word)\n",
        "  return chain"
      ],
      "metadata": {
        "id": "wnJ9wIOS2Nrr"
      },
      "execution_count": null,
      "outputs": []
    },
    {
      "cell_type": "code",
      "source": [
        "chain = gen_1st_order_chain(words)\n",
        "print('Chain size: {0} distinct words.'.format(len(chain)))"
      ],
      "metadata": {
        "colab": {
          "base_uri": "https://localhost:8080/"
        },
        "id": "Lv6bSdwCHpsC",
        "outputId": "3802c25c-ce74-477e-c051-66667cdb1650"
      },
      "execution_count": null,
      "outputs": [
        {
          "output_type": "stream",
          "name": "stdout",
          "text": [
            "Chain size: 2445 distinct words.\n"
          ]
        }
      ]
    },
    {
      "cell_type": "markdown",
      "source": [
        "Why duplicates are not a problem:\n",
        "\n",
        "*   If a word appears multiple times in the list, and take a random sample from the list during a transition, there’s a higher likelihood that word would be picked proportional to the number of times it appeared after the key relative to all the other words in the corpus that appeared after that key\n",
        "\n"
      ],
      "metadata": {
        "id": "gCSwC1nWBQdM"
      }
    },
    {
      "cell_type": "markdown",
      "source": [
        "Generating rhyme from the Markov Chain requires only a starting word and a phrase length. To generate a phrase:\n",
        "\n",
        "\n",
        "1.   Randomly select a starting word from the corpus\n",
        "2.   Make rhyme length 20 words long\n",
        "3.   Repeat until have 30 lines of these.\n",
        "\n",
        "\n",
        "\n"
      ],
      "metadata": {
        "id": "PHAe-SiDCDvI"
      }
    },
    {
      "cell_type": "markdown",
      "source": [
        "First order Markov Chain rhyme method"
      ],
      "metadata": {
        "id": "VO-k2KasGKqI"
      }
    },
    {
      "cell_type": "code",
      "source": [
        "# First order rhyme generator\n",
        "def gen_1st_order_rhyme(words, chain):\n",
        "  rand_rhyme = \"\"\n",
        "  rand_word_1 = random.choice(words)\n",
        "  rand_rhyme = rand_word_1  \n",
        "  rhyme = []\n",
        "  rhyme.append(rand_word_1)\n",
        "  for i in range(19):  \n",
        "      rand_word_2 = random.choice(chain[rand_word_1])\n",
        "      rhyme.append(rand_word_2)\n",
        "      rand_rhyme += ' ' + rand_word_2\n",
        "      rand_word_1 = rand_word_2\n",
        "  print(rhyme)\n",
        "  print(f\"There are {len(rhyme)} many words.\")\n",
        "  return rand_rhyme"
      ],
      "metadata": {
        "id": "RZ7nI5CiBDZY"
      },
      "execution_count": null,
      "outputs": []
    },
    {
      "cell_type": "code",
      "source": [
        "print(gen_1st_order_rhyme(words, chain))"
      ],
      "metadata": {
        "colab": {
          "base_uri": "https://localhost:8080/"
        },
        "id": "6GN_jM4iBUbv",
        "outputId": "1e064cb8-9e00-4f81-f049-89aab8fc8a6b"
      },
      "execution_count": null,
      "outputs": [
        {
          "output_type": "stream",
          "name": "stdout",
          "text": [
            "['a', 'strange', 'sight', 'upon', 'you', 'shoe', 'three', 'four', 'and', 'a', 'rowley', 'powley', 'gammon', 'and', 'hear', 'the', 'cat', 'that', 'ate', 'the']\n",
            "There are 20 many words.\n",
            "a strange sight upon you shoe three four and a rowley powley gammon and hear the cat that ate the\n"
          ]
        }
      ]
    },
    {
      "cell_type": "markdown",
      "source": [
        "2nd order Markov Chain method"
      ],
      "metadata": {
        "id": "9cw5J9SuGY3Z"
      }
    },
    {
      "cell_type": "code",
      "source": [
        "# First order rhyme generator\n",
        "def gen_2nd_order_chain(words):\n",
        "  chain = {}  \n",
        "  n_words = len(words)  \n",
        "  for i, key1 in enumerate(words):  \n",
        "      if n_words > i + 2:\n",
        "          key2 = words[i + 1]\n",
        "          word = words[i + 2]\n",
        "          if (key1, key2) not in chain:\n",
        "              chain[(key1, key2)] = [word]\n",
        "          else:\n",
        "              chain[(key1, key2)].append(word)\n",
        "  return chain"
      ],
      "metadata": {
        "id": "33ebO2tNFENL"
      },
      "execution_count": null,
      "outputs": []
    },
    {
      "cell_type": "code",
      "source": [
        "chain_2 = gen_2nd_order_chain(words)\n",
        "print(f'Chain size: {len(chain_2)} distinct word pairs.')"
      ],
      "metadata": {
        "colab": {
          "base_uri": "https://localhost:8080/"
        },
        "id": "4YNBtZQAHTgD",
        "outputId": "04a1f1de-51ff-4cf9-90e9-1e5b0d0da597"
      },
      "execution_count": null,
      "outputs": [
        {
          "output_type": "stream",
          "name": "stdout",
          "text": [
            "Chain size: 10202 distinct word pairs.\n"
          ]
        }
      ]
    },
    {
      "cell_type": "markdown",
      "source": [
        "Choosing a word pair that appears somewhere in the text and then examining the transitions in the chain for that pair of words (to ensure that the 2nd order chain is operating correctly)."
      ],
      "metadata": {
        "id": "RnD4B32pIUVl"
      }
    },
    {
      "cell_type": "code",
      "source": [
        "# 'to your' appears in nusery_rhymes.txt multiple times\n",
        "chain_2[(\"to\", \"your\")]"
      ],
      "metadata": {
        "colab": {
          "base_uri": "https://localhost:8080/"
        },
        "id": "7_y9w7Q4HbT4",
        "outputId": "9b71ad14-67c6-497c-fccc-2596275269ce"
      },
      "execution_count": null,
      "outputs": [
        {
          "output_type": "execute_result",
          "data": {
            "text/plain": [
              "['daddie',\n",
              " 'daddie',\n",
              " 'daddie',\n",
              " 'daddie',\n",
              " 'daddie',\n",
              " 'mammie',\n",
              " 'playfellows',\n",
              " 'sons']"
            ]
          },
          "metadata": {},
          "execution_count": 38
        }
      ]
    },
    {
      "cell_type": "markdown",
      "source": [
        "2nd order Markov Chain rhyme method"
      ],
      "metadata": {
        "id": "Sal4GUVzI3bg"
      }
    },
    {
      "cell_type": "code",
      "source": [
        "def gen_2nd_order_rhyme(chain, words):\n",
        "    rhyme_lst = []  \n",
        "    rand_word = random.randint(0, len(words) - 1)\n",
        "    rhyme_lst.append(rand_word)\n",
        "    key = (words[rand_word], words[rand_word + 1])\n",
        "    rhyme = key[0] + ' ' + key[1]\n",
        "    for i in range(19):\n",
        "        rand_word_2 = random.choice(chain[key])\n",
        "        rhyme_lst.append(rand_word_2)\n",
        "        rhyme += ' ' + rand_word_2\n",
        "        key = (key[1], rand_word_2)\n",
        "    return rhyme"
      ],
      "metadata": {
        "id": "_K8iURl_In7x"
      },
      "execution_count": null,
      "outputs": []
    },
    {
      "cell_type": "code",
      "source": [
        "# testing 2nd order method\n",
        "for i in range(4): print(gen_2nd_order_rhyme(chain_2, words))"
      ],
      "metadata": {
        "colab": {
          "base_uri": "https://localhost:8080/"
        },
        "id": "HHTGut9XJtzD",
        "outputId": "ce18cddd-bd31-45ca-aaf4-d25465209b5c"
      },
      "execution_count": null,
      "outputs": [
        {
          "output_type": "stream",
          "name": "stdout",
          "text": [
            "black sheep have you seen sam and betsy on the wall and thats half he took him out of france came\n",
            "pig with a ring a ting tang poor old robinson crusoe poor old robinson crusoe poor old robinson crusoe poor old\n",
            "he said nay the third he said nay the third he said little maid will you have caught cold mr frog\n",
            "on snails ho ho quoth the iron till it would not do his master came in and began to quarrel and\n"
          ]
        }
      ]
    },
    {
      "cell_type": "markdown",
      "source": [
        "## Creating MarkovChain Class Model"
      ],
      "metadata": {
        "id": "wd3FPd2ty7CZ"
      }
    },
    {
      "cell_type": "code",
      "source": [
        "class MarkovChain():\n",
        "  def __init__(self, order, words):\n",
        "    self.order = order\n",
        "    self.words = words\n",
        "    self.chain = {}\n",
        "    self.created_chain = False\n",
        "    if self.order == 1:\n",
        "      self.gen_1st_order_chain()\n",
        "      self.created_chain = True\n",
        "    elif self.order == 2:\n",
        "      self.gen_2nd_order_chain()\n",
        "      self.created_chain = True\n",
        "  def reset_chain(self):\n",
        "    self.chain = {}\n",
        "    self.order = None\n",
        "    self.created_chain = False\n",
        "  def set_order(self, order):\n",
        "    self.order = order\n",
        "  # sets chain to a 1st order Markov Chain\n",
        "  def gen_1st_order_chain(self):\n",
        "    if self.order != 1:\n",
        "      print(f\"Error: Cannot create \\\n",
        "      a 1st order chain when order is set to {self.order}\")\n",
        "      return\n",
        "    if self.created_chain:\n",
        "      print(f\"Error: A {self.order} chain is \\\n",
        "      already made. Reset chain (and order) \\\n",
        "      before creating new chain.\")\n",
        "      return\n",
        "    n_words = len(self.words)  \n",
        "    for i, key in enumerate(self.words):  \n",
        "        if n_words > (i + 1):\n",
        "            word = self.words[i + 1]\n",
        "            if key not in self.chain:\n",
        "                self.chain[key] = [word]\n",
        "            else:\n",
        "                self.chain[key].append(word)\n",
        "  # 1st order rhyme generator\n",
        "  def gen_1st_order_rhyme(self):\n",
        "    if self.order != 1:\n",
        "      print(f\"Error: Cannot produce \\\n",
        "      a 1st order rhyme when order is set to {self.order}\")\n",
        "      return\n",
        "    rand_rhyme = \"\"\n",
        "    rand_word_1 = random.choice(self.words)\n",
        "    rand_rhyme = rand_word_1  \n",
        "    rhyme = []\n",
        "    rhyme.append(rand_word_1)\n",
        "    for i in range(19):  \n",
        "        rand_word_2 = random.choice(self.chain[rand_word_1])\n",
        "        rhyme.append(rand_word_2)\n",
        "        rand_rhyme += ' ' + rand_word_2\n",
        "        rand_word_1 = rand_word_2\n",
        "    return rand_rhyme\n",
        "  # sets chain to a 2nd order Markov Chain\n",
        "  def gen_2nd_order_chain(self):\n",
        "    if self.order != 2:\n",
        "      print(f\"Error: Cannot produce \\\n",
        "      a 2nd order chain when order is set to {self.order}\")\n",
        "      return\n",
        "    if self.created_chain:\n",
        "      print(f\"Error: A {self.order} chain is \\\n",
        "      already made. Reset chain (and order) \\\n",
        "      before creating new chain.\")\n",
        "      return\n",
        "    n_words = len(self.words)  \n",
        "    for i, key1 in enumerate(self.words):  \n",
        "        if n_words > i + 2:\n",
        "            key2 = self.words[i + 1]\n",
        "            word = self.words[i + 2]\n",
        "            if (key1, key2) not in self.chain:\n",
        "                self.chain[(key1, key2)] = [word]\n",
        "            else:\n",
        "                self.chain[(key1, key2)].append(word)\n",
        "  # 2nd order rhyme generator\n",
        "  def gen_2nd_order_rhyme(self):\n",
        "    if self.order != 2:\n",
        "      print(f\"Error: Cannot produce \\\n",
        "      a 2nd order rhyme when order is set to {self.order}\")\n",
        "      return\n",
        "    rhyme_lst = []  \n",
        "    rand_word = random.randint(0, len(self.words) - 1)\n",
        "    rhyme_lst.append(rand_word)\n",
        "    key = (self.words[rand_word], self.words[rand_word + 1])\n",
        "    rhyme = key[0] + ' ' + key[1]\n",
        "    for i in range(19):\n",
        "        rand_word_2 = random.choice(self.chain[key])\n",
        "        rhyme_lst.append(rand_word_2)\n",
        "        rhyme += ' ' + rand_word_2\n",
        "        key = (key[1], rand_word_2)\n",
        "    return rhyme"
      ],
      "metadata": {
        "id": "ARmbpeLru7r0"
      },
      "execution_count": 47,
      "outputs": []
    },
    {
      "cell_type": "code",
      "source": [
        "markov_model = MarkovChain(2, words)"
      ],
      "metadata": {
        "id": "amj0jxV3zRtE"
      },
      "execution_count": 48,
      "outputs": []
    },
    {
      "cell_type": "code",
      "source": [
        "def gen_nusery_rhymes(markov_model, n_lines=30, output_file=\"markov_rhymes.txt\"):\n",
        "  with open(output_file, \"w\") as out_file:\n",
        "    for i in range(n_lines):\n",
        "      curr_line = markov_model.gen_2nd_order_rhyme()\n",
        "      out_file.write(curr_line + \".\\n\")"
      ],
      "metadata": {
        "id": "csj7wQksJ2QI"
      },
      "execution_count": 49,
      "outputs": []
    },
    {
      "cell_type": "code",
      "source": [
        "gen_nusery_rhymes(markov_model)"
      ],
      "metadata": {
        "id": "S9IYbsRpLDit"
      },
      "execution_count": 50,
      "outputs": []
    },
    {
      "cell_type": "markdown",
      "source": [
        "Sources:\n",
        "*   Medium article by John Wittenauer: https://medium.com/@jdwittenauer/markov-chains-from-scratch-33340ba6535b\n",
        "\n",
        "\n",
        "\n",
        "---\n",
        "\n"
      ],
      "metadata": {
        "id": "1H_WWJQYKLvq"
      }
    }
  ]
}